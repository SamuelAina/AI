{
 "cells": [
  {
   "cell_type": "markdown",
   "metadata": {
    "collapsed": true,
    "deletable": true,
    "editable": true
   },
   "source": [
    "# Image Classification\n",
    "In this project, you'll classify images from the [CIFAR-10 dataset](https://www.cs.toronto.edu/~kriz/cifar.html).  The dataset consists of airplanes, dogs, cats, and other objects. You'll preprocess the images, then train a convolutional neural network on all the samples. The images need to be normalized and the labels need to be one-hot encoded.  You'll get to apply what you learned and build a convolutional, max pooling, dropout, and fully connected layers.  At the end, you'll get to see your neural network's predictions on the sample images.\n",
    "## Get the Data\n",
    "Run the following cell to download the [CIFAR-10 dataset for python](https://www.cs.toronto.edu/~kriz/cifar-10-python.tar.gz)."
   ]
  },
  {
   "cell_type": "code",
   "execution_count": 1,
   "metadata": {
    "collapsed": false,
    "deletable": true,
    "editable": true
   },
   "outputs": [
    {
     "name": "stdout",
     "output_type": "stream",
     "text": [
      "All files found!\n"
     ]
    }
   ],
   "source": [
    "\"\"\"\n",
    "DON'T MODIFY ANYTHING IN THIS CELL THAT IS BELOW THIS LINE\n",
    "\"\"\"\n",
    "from urllib.request import urlretrieve\n",
    "from os.path import isfile, isdir\n",
    "from tqdm import tqdm\n",
    "import problem_unittests as tests\n",
    "import tarfile\n",
    "\n",
    "cifar10_dataset_folder_path = 'cifar-10-batches-py'\n",
    "\n",
    "class DLProgress(tqdm):\n",
    "    last_block = 0\n",
    "\n",
    "    def hook(self, block_num=1, block_size=1, total_size=None):\n",
    "        self.total = total_size\n",
    "        self.update((block_num - self.last_block) * block_size)\n",
    "        self.last_block = block_num\n",
    "\n",
    "if not isfile('cifar-10-python.tar.gz'):\n",
    "    with DLProgress(unit='B', unit_scale=True, miniters=1, desc='CIFAR-10 Dataset') as pbar:\n",
    "        urlretrieve(\n",
    "            'https://www.cs.toronto.edu/~kriz/cifar-10-python.tar.gz',\n",
    "            'cifar-10-python.tar.gz',\n",
    "            pbar.hook)\n",
    "\n",
    "if not isdir(cifar10_dataset_folder_path):\n",
    "    with tarfile.open('cifar-10-python.tar.gz') as tar:\n",
    "        tar.extractall()\n",
    "        tar.close()\n",
    "\n",
    "\n",
    "tests.test_folder_path(cifar10_dataset_folder_path)"
   ]
  },
  {
   "cell_type": "markdown",
   "metadata": {
    "deletable": true,
    "editable": true
   },
   "source": [
    "## Explore the Data\n",
    "The dataset is broken into batches to prevent your machine from running out of memory.  The CIFAR-10 dataset consists of 5 batches, named `data_batch_1`, `data_batch_2`, etc.. Each batch contains the labels and images that are one of the following:\n",
    "* airplane\n",
    "* automobile\n",
    "* bird\n",
    "* cat\n",
    "* deer\n",
    "* dog\n",
    "* frog\n",
    "* horse\n",
    "* ship\n",
    "* truck\n",
    "\n",
    "Understanding a dataset is part of making predictions on the data.  Play around with the code cell below by changing the `batch_id` and `sample_id`. The `batch_id` is the id for a batch (1-5). The `sample_id` is the id for a image and label pair in the batch.\n",
    "\n",
    "Ask yourself \"What are all possible labels?\", \"What is the range of values for the image data?\", \"Are the labels in order or random?\".  Answers to questions like these will help you preprocess the data and end up with better predictions."
   ]
  },
  {
   "cell_type": "code",
   "execution_count": 2,
   "metadata": {
    "collapsed": false,
    "deletable": true,
    "editable": true
   },
   "outputs": [
    {
     "name": "stdout",
     "output_type": "stream",
     "text": [
      "\n",
      "Stats of batch 1:\n",
      "Samples: 10000\n",
      "Label Counts: {0: 1005, 1: 974, 2: 1032, 3: 1016, 4: 999, 5: 937, 6: 1030, 7: 1001, 8: 1025, 9: 981}\n",
      "First 20 Labels: [6, 9, 9, 4, 1, 1, 2, 7, 8, 3, 4, 7, 7, 2, 9, 9, 9, 3, 2, 6]\n",
      "\n",
      "Example of Image 5:\n",
      "Image - Min Value: 0 Max Value: 252\n",
      "Image - Shape: (32, 32, 3)\n",
      "Label - Label Id: 1 Name: automobile\n"
     ]
    },
    {
     "data": {
      "image/png": "[encoded data removed]",
      "text/plain": [
       "<matplotlib.figure.Figure at 0x7f89ba988dd8>"
      ]
     },
     "metadata": {
      "image/png": {
       "height": 250,
       "width": 253
      }
     },
     "output_type": "display_data"
    }
   ],
   "source": [
    "%matplotlib inline\n",
    "%config InlineBackend.figure_format = 'retina'\n",
    "\n",
    "import helper\n",
    "import numpy as np\n",
    "\n",
    "# Explore the dataset\n",
    "batch_id = 1\n",
    "sample_id = 5\n",
    "helper.display_stats(cifar10_dataset_folder_path, batch_id, sample_id)"
   ]
  },
  {
   "cell_type": "markdown",
   "metadata": {
    "deletable": true,
    "editable": true
   },
   "source": [
    "## Implement Preprocess Functions\n",
    "### Normalize\n",
    "In the cell below, implement the `normalize` function to take in image data, `x`, and return it as a normalized Numpy array. The values should be in the range of 0 to 1, inclusive.  The return object should be the same shape as `x`."
   ]
  },
  {
   "cell_type": "code",
   "execution_count": 3,
   "metadata": {
    "collapsed": false,
    "deletable": true,
    "editable": true
   },
   "outputs": [
    {
     "name": "stdout",
     "output_type": "stream",
     "text": [
      "Tests Passed\n"
     ]
    }
   ],
   "source": [
    "def normalize(x):\n",
    "    \"\"\"\n",
    "    Normalize a list of sample image data in the range of 0 to 1\n",
    "    : x: List of image data.  The image shape is (32, 32, 3)\n",
    "    : return: Numpy array of normalize data\n",
    "    \"\"\"\n",
    "    # TODO: Implement Function\n",
    "    a = 0.0\n",
    "    b = 1.0\n",
    "    grayscale_min = 0\n",
    "    grayscale_max = 255\n",
    "    return a + ( ( (x - grayscale_min)*(b - a) )/( grayscale_max - grayscale_min ) )   \n",
    "  \n",
    "    #return None\n",
    "\n",
    "\"\"\"\n",
    "DON'T MODIFY ANYTHING IN THIS CELL THAT IS BELOW THIS LINE\n",
    "\"\"\"\n",
    "tests.test_normalize(normalize)"
   ]
  },
  {
   "cell_type": "markdown",
   "metadata": {
    "deletable": true,
    "editable": true
   },
   "source": [
    "### One-hot encode\n",
    "Just like the previous code cell, you'll be implementing a function for preprocessing.  This time, you'll implement the `one_hot_encode` function. The input, `x`, are a list of labels.  Implement the function to return the list of labels as One-Hot encoded Numpy array.  The possible values for labels are 0 to 9. The one-hot encoding function should return the same encoding for each value between each call to `one_hot_encode`.  Make sure to save the map of encodings outside the function.\n",
    "\n",
    "Hint: Don't reinvent the wheel."
   ]
  },
  {
   "cell_type": "code",
   "execution_count": 13,
   "metadata": {
    "collapsed": false,
    "deletable": true,
    "editable": true
   },
   "outputs": [
    {
     "name": "stdout",
     "output_type": "stream",
     "text": [
      "Tests Passed\n"
     ]
    }
   ],
   "source": [
    "from sklearn.preprocessing import LabelBinarizer\n",
    "def one_hot_encode(x):\n",
    "    \"\"\"\n",
    "    One hot encode a list of sample labels. Return a one-hot encoded vector for each label.\n",
    "    : x: List of sample Labels\n",
    "    : return: Numpy array of one-hot encoded labels\n",
    "    \"\"\"\n",
    "    # TODO: Implement Function\n",
    "    \n",
    "    ##encoder = LabelBinarizer()\n",
    "    ##encoder.fit(np.zeros(shape=(len(x), 10)))           \n",
    "    ##return encoder.transform(x).astype(np.float32)          \n",
    "    ##return None\n",
    "    \n",
    "    encoder = LabelBinarizer() \n",
    "    encoder.fit([i for i in range(10)]) \n",
    "    x = encoder.transform(x)\n",
    "    \n",
    "\n",
    "    return x.astype(np.float32) \n",
    "\n",
    "\"\"\"\n",
    "DON'T MODIFY ANYTHING IN THIS CELL THAT IS BELOW THIS LINE\n",
    "\"\"\"\n",
    "tests.test_one_hot_encode(one_hot_encode)"
   ]
  },
  {
   "cell_type": "markdown",
   "metadata": {
    "deletable": true,
    "editable": true
   },
   "source": [
    "### Randomize Data\n",
    "As you saw from exploring the data above, the order of the samples are randomized.  It doesn't hurt to randomize it again, but you don't need to for this dataset."
   ]
  },
  {
   "cell_type": "markdown",
   "metadata": {
    "deletable": true,
    "editable": true
   },
   "source": [
    "## Preprocess all the data and save it\n",
    "Running the code cell below will preprocess all the CIFAR-10 data and save it to file. The code below also uses 10% of the training data for validation."
   ]
  },
  {
   "cell_type": "code",
   "execution_count": 14,
   "metadata": {
    "collapsed": false,
    "deletable": true,
    "editable": true
   },
   "outputs": [],
   "source": [
    "\"\"\"\n",
    "DON'T MODIFY ANYTHING IN THIS CELL\n",
    "\"\"\"\n",
    "# Preprocess Training, Validation, and Testing Data\n",
    "helper.preprocess_and_save_data(cifar10_dataset_folder_path, normalize, one_hot_encode)"
   ]
  },
  {
   "cell_type": "markdown",
   "metadata": {
    "deletable": true,
    "editable": true
   },
   "source": [
    "# Check Point\n",
    "This is your first checkpoint.  If you ever decide to come back to this notebook or have to restart the notebook, you can start from here.  The preprocessed data has been saved to disk."
   ]
  },
  {
   "cell_type": "code",
   "execution_count": 15,
   "metadata": {
    "collapsed": true,
    "deletable": true,
    "editable": true
   },
   "outputs": [],
   "source": [
    "\"\"\"\n",
    "DON'T MODIFY ANYTHING IN THIS CELL\n",
    "\"\"\"\n",
    "import pickle\n",
    "import problem_unittests as tests\n",
    "import helper\n",
    "\n",
    "# Load the Preprocessed Validation data\n",
    "valid_features, valid_labels = pickle.load(open('preprocess_validation.p', mode='rb'))"
   ]
  },
  {
   "cell_type": "markdown",
   "metadata": {
    "deletable": true,
    "editable": true
   },
   "source": [
    "## Build the network\n",
    "For the neural network, you'll build each layer into a function.  Most of the code you've seen has been outside of functions. To test your code more thoroughly, we require that you put each layer in a function.  This allows us to give you better feedback and test for simple mistakes using our unittests before you submit your project.\n",
    "\n",
    ">**Note:** If you're finding it hard to dedicate enough time for this course each week, we've provided a small shortcut to this part of the project. In the next couple of problems, you'll have the option to use classes from the [TensorFlow Layers](https://www.tensorflow.org/api_docs/python/tf/layers) or [TensorFlow Layers (contrib)](https://www.tensorflow.org/api_guides/python/contrib.layers) packages to build each layer, except the layers you build in the \"Convolutional and Max Pooling Layer\" section.  TF Layers is similar to Keras's and TFLearn's abstraction to layers, so it's easy to pickup.\n",
    "\n",
    ">However, if you would like to get the most out of this course, try to solve all the problems _without_ using anything from the TF Layers packages. You **can** still use classes from other packages that happen to have the same name as ones you find in TF Layers! For example, instead of using the TF Layers version of the `conv2d` class, [tf.layers.conv2d](https://www.tensorflow.org/api_docs/python/tf/layers/conv2d), you would want to use the TF Neural Network version of `conv2d`, [tf.nn.conv2d](https://www.tensorflow.org/api_docs/python/tf/nn/conv2d). \n",
    "\n",
    "Let's begin!\n",
    "\n",
    "### Input\n",
    "The neural network needs to read the image data, one-hot encoded labels, and dropout keep probability. Implement the following functions\n",
    "* Implement `neural_net_image_input`\n",
    " * Return a [TF Placeholder](https://www.tensorflow.org/api_docs/python/tf/placeholder)\n",
    " * Set the shape using `image_shape` with batch size set to `None`.\n",
    " * Name the TensorFlow placeholder \"x\" using the TensorFlow `name` parameter in the [TF Placeholder](https://www.tensorflow.org/api_docs/python/tf/placeholder).\n",
    "* Implement `neural_net_label_input`\n",
    " * Return a [TF Placeholder](https://www.tensorflow.org/api_docs/python/tf/placeholder)\n",
    " * Set the shape using `n_classes` with batch size set to `None`.\n",
    " * Name the TensorFlow placeholder \"y\" using the TensorFlow `name` parameter in the [TF Placeholder](https://www.tensorflow.org/api_docs/python/tf/placeholder).\n",
    "* Implement `neural_net_keep_prob_input`\n",
    " * Return a [TF Placeholder](https://www.tensorflow.org/api_docs/python/tf/placeholder) for dropout keep probability.\n",
    " * Name the TensorFlow placeholder \"keep_prob\" using the TensorFlow `name` parameter in the [TF Placeholder](https://www.tensorflow.org/api_docs/python/tf/placeholder).\n",
    "\n",
    "These names will be used at the end of the project to load your saved model.\n",
    "\n",
    "Note: `None` for shapes in TensorFlow allow for a dynamic size."
   ]
  },
  {
   "cell_type": "code",
   "execution_count": 16,
   "metadata": {
    "collapsed": false,
    "deletable": true,
    "editable": true
   },
   "outputs": [
    {
     "name": "stdout",
     "output_type": "stream",
     "text": [
      "Image Input Tests Passed.\n",
      "Label Input Tests Passed.\n",
      "Keep Prob Tests Passed.\n"
     ]
    }
   ],
   "source": [
    "import tensorflow as tf\n",
    "\n",
    "def neural_net_image_input(image_shape):\n",
    "    \"\"\"\n",
    "    Return a Tensor for a bach of image input\n",
    "    : image_shape: Shape of the images\n",
    "    : return: Tensor for image input.\n",
    "    \"\"\"\n",
    "    # TODO: Implement Function\n",
    "    \n",
    "    return tf.placeholder(tf.float32, [None, image_shape[0],image_shape[1],image_shape[2]],name=\"x\") \n",
    "    #return None\n",
    "\n",
    "\n",
    "def neural_net_label_input(n_classes):\n",
    "    \"\"\"\n",
    "    Return a Tensor for a batch of label input\n",
    "    : n_classes: Number of classes\n",
    "    : return: Tensor for label input.\n",
    "    \"\"\"\n",
    "    # TODO: Implement Function\n",
    "    return tf.placeholder(tf.float32, [None, n_classes],name=\"y\")\n",
    "    #return None\n",
    "\n",
    "\n",
    "def neural_net_keep_prob_input():\n",
    "    \"\"\"\n",
    "    Return a Tensor for keep probability\n",
    "    : return: Tensor for keep probability.\n",
    "    \"\"\"\n",
    "    # TODO: Implement Function\n",
    "    return tf.placeholder(tf.float32,name=\"keep_prob\") #return None\n",
    "\n",
    "\n",
    "\"\"\"\n",
    "DON'T MODIFY ANYTHING IN THIS CELL THAT IS BELOW THIS LINE\n",
    "\"\"\"\n",
    "tf.reset_default_graph()\n",
    "tests.test_nn_image_inputs(neural_net_image_input)\n",
    "tests.test_nn_label_inputs(neural_net_label_input)\n",
    "tests.test_nn_keep_prob_inputs(neural_net_keep_prob_input)"
   ]
  },
  {
   "cell_type": "markdown",
   "metadata": {
    "deletable": true,
    "editable": true
   },
   "source": [
    "### Convolution and Max Pooling Layer\n",
    "Convolution layers have a lot of success with images. For this code cell, you should implement the function `conv2d_maxpool` to apply convolution then max pooling:\n",
    "* Create the weight and bias using `conv_ksize`, `conv_num_outputs` and the shape of `x_tensor`.\n",
    "* Apply a convolution to `x_tensor` using weight and `conv_strides`.\n",
    " * We recommend you use same padding, but you're welcome to use any padding.\n",
    "* Add bias\n",
    "* Add a nonlinear activation to the convolution.\n",
    "* Apply Max Pooling using `pool_ksize` and `pool_strides`.\n",
    " * We recommend you use same padding, but you're welcome to use any padding.\n",
    "\n",
    "**Note:** You **can't** use [TensorFlow Layers](https://www.tensorflow.org/api_docs/python/tf/layers) or [TensorFlow Layers (contrib)](https://www.tensorflow.org/api_guides/python/contrib.layers) for **this** layer, but you can still use TensorFlow's [Neural Network](https://www.tensorflow.org/api_docs/python/tf/nn) package. You may still use the shortcut option for all the **other** layers."
   ]
  },
  {
   "cell_type": "code",
   "execution_count": 17,
   "metadata": {
    "collapsed": false,
    "deletable": true,
    "editable": true
   },
   "outputs": [
    {
     "name": "stdout",
     "output_type": "stream",
     "text": [
      "Tests Passed\n"
     ]
    }
   ],
   "source": [
    "stddev=0.10;   #global variaable\n",
    "def conv2d_maxpool(x_tensor, conv_num_outputs, conv_ksize, conv_strides, pool_ksize, pool_strides):\n",
    "    \"\"\"\n",
    "    Apply convolution then max pooling to x_tensor\n",
    "    :param x_tensor: TensorFlow Tensor\n",
    "    :param conv_num_outputs: Number of outputs for the convolutional layer\n",
    "    :param conv_ksize: kernal size 2-D Tuple for the convolutional layer\n",
    "    :param conv_strides: Stride 2-D Tuple for convolution\n",
    "    :param pool_ksize: kernal size 2-D Tuple for pool\n",
    "    :param pool_strides: Stride 2-D Tuple for pool\n",
    "    : return: A tensor that represents convolution and max pooling of x_tensor\n",
    "    \"\"\"\n",
    "    # TODO: Implement Function\n",
    "     #Create the weight and bias using conv_ksize, conv_num_outputs and the shape of x_tensor       \n",
    "\n",
    "    #args for tf.truncated_normal: [(height, width, input_depth, output_depth)]\n",
    "    weight = tf.Variable(\n",
    "        tf.truncated_normal\n",
    "        (\n",
    "            [\n",
    "             conv_ksize[0], \n",
    "             conv_ksize[1], \n",
    "             x_tensor.get_shape().as_list()[3], \n",
    "             conv_num_outputs\n",
    "            ],\n",
    "         stddev=stddev      \n",
    "        )\n",
    "    ) \n",
    "   \n",
    " \n",
    "    #bias = tf.Variable(tf.zeros(conv_num_outputs)) \n",
    "    bias = tf.Variable(\n",
    "        tf.truncated_normal(\n",
    "         [conv_num_outputs],\n",
    "         stddev=stddev           \n",
    "        )\n",
    "    )\n",
    "    padding =\"SAME\"\n",
    "    strides = [1, conv_strides[0], conv_strides[1], 1]# (batch, height, width, depth)\n",
    "    \n",
    "    #Apply a convolution to x_tensor using weight and conv_strides\n",
    "    conv = tf.nn.conv2d(x_tensor, weight, strides, padding) \n",
    "    \n",
    "    #Add bias\n",
    "    conv = tf.nn.bias_add(conv, bias)\n",
    "    \n",
    "    #Add a nonlinear activation to the convolution\n",
    "    conv = tf.nn.relu(conv)\n",
    "    \n",
    "    #Apply Max Pooling using pool_ksize and pool_strides\n",
    "    conv = tf.nn.max_pool(\n",
    "        conv, \n",
    "        ksize=[1, \n",
    "               pool_ksize [0], \n",
    "               pool_ksize [1], \n",
    "               1\n",
    "              ], \n",
    "        strides=[\n",
    "            1, \n",
    "            pool_strides[0], \n",
    "            pool_strides[1], \n",
    "            1], \n",
    "        padding='SAME')\n",
    "    \n",
    "    \n",
    "    #conv = tf.nn.max_pool(pool_ksize, pool_ksize, strides=[1, pool_strides[0], pool_strides[1], 1], padding='SAME')\n",
    "    return conv \n",
    "    \n",
    "    \n",
    "    \n",
    "    #return None \n",
    "\n",
    "\n",
    "\"\"\"\n",
    "DON'T MODIFY ANYTHING IN THIS CELL THAT IS BELOW THIS LINE\n",
    "\"\"\"\n",
    "tests.test_con_pool(conv2d_maxpool)"
   ]
  },
  {
   "cell_type": "markdown",
   "metadata": {
    "deletable": true,
    "editable": true
   },
   "source": [
    "### Flatten Layer\n",
    "Implement the `flatten` function to change the dimension of `x_tensor` from a 4-D tensor to a 2-D tensor.  The output should be the shape (*Batch Size*, *Flattened Image Size*). Shortcut option: you can use classes from the [TensorFlow Layers](https://www.tensorflow.org/api_docs/python/tf/layers) or [TensorFlow Layers (contrib)](https://www.tensorflow.org/api_guides/python/contrib.layers) packages for this layer. For more of a challenge, only use other TensorFlow packages."
   ]
  },
  {
   "cell_type": "code",
   "execution_count": 18,
   "metadata": {
    "collapsed": false,
    "deletable": true,
    "editable": true
   },
   "outputs": [
    {
     "name": "stdout",
     "output_type": "stream",
     "text": [
      "Tests Passed\n"
     ]
    }
   ],
   "source": [
    "def flatten(x_tensor):\n",
    "    \"\"\"\n",
    "    Flatten x_tensor to (Batch Size, Flattened Image Size)\n",
    "    : x_tensor: A tensor of size (Batch Size, ...), where ... are the image dimensions.\n",
    "    : return: A tensor of size (Batch Size, Flattened Image Size).\n",
    "    \"\"\"\n",
    "    \n",
    "    #The output should be the shape (Batch Size, Flattened Image Size,Flattened Image Size).\n",
    "    \n",
    "    return tf.reshape(x_tensor, [-1, x_tensor.get_shape().as_list()[1] * x_tensor.get_shape().as_list()[2] * x_tensor.get_shape().as_list()[3]])   \n",
    "    \n",
    "    \n",
    "    \n",
    "    # TODO: Implement Function\n",
    "    #return None\n",
    "\n",
    "\n",
    "\"\"\"\n",
    "DON'T MODIFY ANYTHING IN THIS CELL THAT IS BELOW THIS LINE\n",
    "\"\"\"\n",
    "tests.test_flatten(flatten)"
   ]
  },
  {
   "cell_type": "markdown",
   "metadata": {
    "deletable": true,
    "editable": true
   },
   "source": [
    "### Fully-Connected Layer\n",
    "Implement the `fully_conn` function to apply a fully connected layer to `x_tensor` with the shape (*Batch Size*, *num_outputs*). Shortcut option: you can use classes from the [TensorFlow Layers](https://www.tensorflow.org/api_docs/python/tf/layers) or [TensorFlow Layers (contrib)](https://www.tensorflow.org/api_guides/python/contrib.layers) packages for this layer. For more of a challenge, only use other TensorFlow packages."
   ]
  },
  {
   "cell_type": "code",
   "execution_count": 19,
   "metadata": {
    "collapsed": false,
    "deletable": true,
    "editable": true
   },
   "outputs": [
    {
     "name": "stdout",
     "output_type": "stream",
     "text": [
      "Tests Passed\n"
     ]
    }
   ],
   "source": [
    "def fully_conn(x_tensor, num_outputs):\n",
    "    \"\"\"\n",
    "    Apply a fully connected layer to x_tensor using weight and bias\n",
    "    : x_tensor: A 2-D tensor where the first dimension is batch size.\n",
    "    : num_outputs: The number of output that the new tensor should be.\n",
    "    : return: A 2-D tensor where the second dimension is num_outputs.\n",
    "    \"\"\"\n",
    "    # TODO: Implement Function\n",
    "    \n",
    "    weight = tf.Variable(\n",
    "        tf.random_normal(\n",
    "        [int(x_tensor.get_shape().as_list()[1]), num_outputs],\n",
    "         stddev=stddev \n",
    "        )\n",
    "        )\n",
    "    \n",
    "    #bias = tf.Variable(tf.random_normal([num_outputs]))\n",
    "    \n",
    "    bias = tf.Variable(\n",
    "        tf.truncated_normal(\n",
    "         [num_outputs],\n",
    "         stddev=stddev           \n",
    "        )\n",
    "    )\n",
    "        \n",
    "    fc = tf.add(tf.matmul(x_tensor, weight), bias)\n",
    "    fc = tf.nn.relu(fc)\n",
    "\n",
    "    return fc\n",
    "    \n",
    "    \n",
    "    \n",
    "    #return None\n",
    "\n",
    "\n",
    "\"\"\"\n",
    "DON'T MODIFY ANYTHING IN THIS CELL THAT IS BELOW THIS LINE\n",
    "\"\"\"\n",
    "tests.test_fully_conn(fully_conn)"
   ]
  },
  {
   "cell_type": "markdown",
   "metadata": {
    "deletable": true,
    "editable": true
   },
   "source": [
    "### Output Layer\n",
    "Implement the `output` function to apply a fully connected layer to `x_tensor` with the shape (*Batch Size*, *num_outputs*). Shortcut option: you can use classes from the [TensorFlow Layers](https://www.tensorflow.org/api_docs/python/tf/layers) or [TensorFlow Layers (contrib)](https://www.tensorflow.org/api_guides/python/contrib.layers) packages for this layer. For more of a challenge, only use other TensorFlow packages.\n",
    "\n",
    "**Note:** Activation, softmax, or cross entropy should **not** be applied to this."
   ]
  },
  {
   "cell_type": "code",
   "execution_count": 20,
   "metadata": {
    "collapsed": false,
    "deletable": true,
    "editable": true
   },
   "outputs": [
    {
     "name": "stdout",
     "output_type": "stream",
     "text": [
      "Tests Passed\n"
     ]
    }
   ],
   "source": [
    "def output(x_tensor, num_outputs):\n",
    "    \"\"\"\n",
    "    Apply a output layer to x_tensor using weight and bias\n",
    "    : x_tensor: A 2-D tensor where the first dimension is batch size.\n",
    "    : num_outputs: The number of output that the new tensor should be.\n",
    "    : return: A 2-D tensor where the second dimension is num_outputs.\n",
    "    \"\"\"\n",
    "    # TODO: Implement Function\n",
    "    \n",
    "    \n",
    "    weight = tf.Variable(\n",
    "        tf.random_normal(\n",
    "            [int(x_tensor.get_shape().as_list()[1]), num_outputs],\n",
    "         stddev=stddev \n",
    "        )\n",
    "    )\n",
    "\n",
    "    #bias = tf.Variable(tf.random_normal([num_outputs]))\n",
    "    \n",
    "    bias = tf.Variable(\n",
    "        tf.truncated_normal(\n",
    "         [num_outputs],\n",
    "         stddev=stddev           \n",
    "        )\n",
    "    )\n",
    "        \n",
    "    fc = tf.add(tf.matmul(x_tensor, weight), bias)\n",
    "    return fc\n",
    "   \n",
    "    \n",
    "    \n",
    "    #return None\n",
    "\n",
    "\n",
    "\"\"\"\n",
    "DON'T MODIFY ANYTHING IN THIS CELL THAT IS BELOW THIS LINE\n",
    "\"\"\"\n",
    "tests.test_output(output)"
   ]
  },
  {
   "cell_type": "markdown",
   "metadata": {
    "deletable": true,
    "editable": true
   },
   "source": [
    "### Create Convolutional Model\n",
    "Implement the function `conv_net` to create a convolutional neural network model. The function takes in a batch of images, `x`, and outputs logits.  Use the layers you created above to create this model:\n",
    "\n",
    "* Apply 1, 2, or 3 Convolution and Max Pool layers\n",
    "* Apply a Flatten Layer\n",
    "* Apply 1, 2, or 3 Fully Connected Layers\n",
    "* Apply an Output Layer\n",
    "* Return the output\n",
    "* Apply [TensorFlow's Dropout](https://www.tensorflow.org/api_docs/python/tf/nn/dropout) to one or more layers in the model using `keep_prob`. "
   ]
  },
  {
   "cell_type": "code",
   "execution_count": 67,
   "metadata": {
    "collapsed": false,
    "deletable": true,
    "editable": true
   },
   "outputs": [
    {
     "name": "stdout",
     "output_type": "stream",
     "text": [
      "Neural Network Built!\n"
     ]
    }
   ],
   "source": [
    "def conv_net(x, keep_prob):\n",
    "    \"\"\"\n",
    "    Create a convolutional neural network model\n",
    "    : x: Placeholder tensor that holds image data.\n",
    "    : keep_prob: Placeholder tensor that hold dropout keep probability.\n",
    "    : return: Tensor that represents logits\n",
    "    \"\"\"\n",
    "    # TODO: Apply 1, 2, or 3 Convolution and Max Pool layers\n",
    "    #    Play around with different number of outputs, kernel size and stride\n",
    "    # Function Definition from Above:\n",
    "    #    conv2d_maxpool(x_tensor, conv_num_outputs, conv_ksize, conv_strides, pool_ksize, pool_strides)\n",
    "    \n",
    "    conv_num_outputs = 64 \n",
    "    conv_ksize = (3, 3)\n",
    "    conv_strides = (1, 1) \n",
    "    pool_ksize = (2, 2)\n",
    "    pool_strides =(2, 2)\n",
    "    \n",
    "    logits = conv2d_maxpool(x, 8, conv_ksize, conv_strides,pool_ksize, pool_strides)\n",
    "    logits = conv2d_maxpool(logits, 32, conv_ksize, conv_strides,pool_ksize, pool_strides) \n",
    "    \n",
    "    logits = conv2d_maxpool(logits, 64, conv_ksize, conv_strides,pool_ksize, pool_strides) ### inserting this made a big diff0\n",
    "    \n",
    "    # TODO: Apply a Flatten Layer\n",
    "    # Function Definition from Above:\n",
    "    #   flatten(x_tensor)\n",
    "    logits = flatten(logits)\n",
    "    logits = tf.nn.dropout(logits, keep_prob)    \n",
    "   \n",
    "\n",
    "    # TODO: Apply 1, 2, or 3 Fully Connected Layers\n",
    "    #    Play around with different number of outputs\n",
    "    # Function Definition from Above:\n",
    "    #   fully_conn(x_tensor, num_outputs)\n",
    "    logits = fully_conn(logits, 100)\n",
    "   \n",
    "    \n",
    "    # TODO: Apply an Output Layer\n",
    "    #    Set this to the number of classes\n",
    "    # Function Definition from Above:\n",
    "    #   output(x_tensor, num_outputs)\n",
    "    logits = output(logits, 10)\n",
    "   \n",
    "    \n",
    "    # TODO: return output\n",
    "    return logits\n",
    "\n",
    "\n",
    "\"\"\"\n",
    "DON'T MODIFY ANYTHING IN THIS CELL THAT IS BELOW THIS LINE\n",
    "\"\"\"\n",
    "\n",
    "##############################\n",
    "## Build the Neural Network ##\n",
    "##############################\n",
    "\n",
    "# Remove previous weights, bias, inputs, etc..\n",
    "tf.reset_default_graph()\n",
    "\n",
    "# Inputs\n",
    "x = neural_net_image_input((32, 32, 3))\n",
    "y = neural_net_label_input(10)\n",
    "keep_prob = neural_net_keep_prob_input()\n",
    "\n",
    "# Model\n",
    "logits = conv_net(x, keep_prob)\n",
    "\n",
    "# Name logits Tensor, so that is can be loaded from disk after training\n",
    "logits = tf.identity(logits, name='logits')\n",
    "\n",
    "# Loss and Optimizer\n",
    "cost = tf.reduce_mean(tf.nn.softmax_cross_entropy_with_logits(logits=logits, labels=y))\n",
    "optimizer = tf.train.AdamOptimizer().minimize(cost)\n",
    "\n",
    "# Accuracy\n",
    "correct_pred = tf.equal(tf.argmax(logits, 1), tf.argmax(y, 1))\n",
    "accuracy = tf.reduce_mean(tf.cast(correct_pred, tf.float32), name='accuracy')\n",
    "\n",
    "tests.test_conv_net(conv_net)"
   ]
  },
  {
   "cell_type": "markdown",
   "metadata": {
    "deletable": true,
    "editable": true
   },
   "source": [
    "## Train the Neural Network\n",
    "### Single Optimization\n",
    "Implement the function `train_neural_network` to do a single optimization.  The optimization should use `optimizer` to optimize in `session` with a `feed_dict` of the following:\n",
    "* `x` for image input\n",
    "* `y` for labels\n",
    "* `keep_prob` for keep probability for dropout\n",
    "\n",
    "This function will be called for each batch, so `tf.global_variables_initializer()` has already been called.\n",
    "\n",
    "Note: Nothing needs to be returned. This function is only optimizing the neural network."
   ]
  },
  {
   "cell_type": "code",
   "execution_count": 68,
   "metadata": {
    "collapsed": false,
    "deletable": true,
    "editable": true
   },
   "outputs": [
    {
     "name": "stdout",
     "output_type": "stream",
     "text": [
      "Tests Passed\n"
     ]
    }
   ],
   "source": [
    "def train_neural_network(session, optimizer, keep_probability, feature_batch, label_batch):\n",
    "    \"\"\"\n",
    "    Optimize the session on a batch of images and labels\n",
    "    : session: Current TensorFlow session\n",
    "    : optimizer: TensorFlow optimizer function\n",
    "    : keep_probability: keep probability\n",
    "    : feature_batch: Batch of Numpy image data\n",
    "    : label_batch: Batch of Numpy label data\n",
    "    \"\"\"\n",
    "    # TODO: Implement Function\n",
    "    session.run(optimizer, feed_dict={x: feature_batch, y: label_batch, keep_prob: keep_probability})\n",
    "\n",
    "    \n",
    "    pass\n",
    "\n",
    "\n",
    "\"\"\"\n",
    "DON'T MODIFY ANYTHING IN THIS CELL THAT IS BELOW THIS LINE\n",
    "\"\"\"\n",
    "tests.test_train_nn(train_neural_network)"
   ]
  },
  {
   "cell_type": "markdown",
   "metadata": {
    "deletable": true,
    "editable": true
   },
   "source": [
    "### Show Stats\n",
    "Implement the function `print_stats` to print loss and validation accuracy.  Use the global variables `valid_features` and `valid_labels` to calculate validation accuracy.  Use a keep probability of `1.0` to calculate the loss and validation accuracy."
   ]
  },
  {
   "cell_type": "code",
   "execution_count": 69,
   "metadata": {
    "collapsed": false,
    "deletable": true,
    "editable": true
   },
   "outputs": [],
   "source": [
    "def print_stats(session, feature_batch, label_batch, cost, accuracy):\n",
    "    \"\"\"\n",
    "    Print information about loss and validation accuracy\n",
    "    : session: Current TensorFlow session\n",
    "    : feature_batch: Batch of Numpy image data\n",
    "    : label_batch: Batch of Numpy label data\n",
    "    : cost: TensorFlow cost function\n",
    "    : accuracy: TensorFlow accuracy function\n",
    "    \"\"\"\n",
    "    # TODO: Implement Function\n",
    "    loss = sess.run(cost, feed_dict={\n",
    "                x: feature_batch,\n",
    "                y: label_batch,\n",
    "                keep_prob:1})\n",
    "    train_acc = sess.run(accuracy, feed_dict={\n",
    "                x: feature_batch,\n",
    "                y: label_batch,\n",
    "                keep_prob:1})\n",
    "    valid_acc = sess.run(accuracy, feed_dict={\n",
    "                x: valid_features,\n",
    "                y: valid_labels,\n",
    "                keep_prob:1})\n",
    "    \n",
    "    print('Loss: {:>10.4f} training accuracy : {:.6f} Validation Accuracy: {:.6f}'.format(loss,train_acc ,valid_acc))\n",
    "    \n",
    "    \n",
    "    #pass"
   ]
  },
  {
   "cell_type": "markdown",
   "metadata": {
    "deletable": true,
    "editable": true
   },
   "source": [
    "### Hyperparameters\n",
    "Tune the following parameters:\n",
    "* Set `epochs` to the number of iterations until the network stops learning or start overfitting\n",
    "* Set `batch_size` to the highest number that your machine has memory for.  Most people set them to common sizes of memory:\n",
    " * 64\n",
    " * 128\n",
    " * 256\n",
    " * ...\n",
    "* Set `keep_probability` to the probability of keeping a node using dropout"
   ]
  },
  {
   "cell_type": "code",
   "execution_count": 70,
   "metadata": {
    "collapsed": true,
    "deletable": true,
    "editable": true
   },
   "outputs": [],
   "source": [
    "# TODO: Tune Parameters\n",
    "epochs = 50 #None\n",
    "batch_size = 64 #None\n",
    "keep_probability = 0.65 #None\n",
    "\n",
    "stddev   = 0.007;  #set this up as a global varable to see if changing it has any effect"
   ]
  },
  {
   "cell_type": "markdown",
   "metadata": {
    "deletable": true,
    "editable": true
   },
   "source": [
    "### Train on a Single CIFAR-10 Batch\n",
    "Instead of training the neural network on all the CIFAR-10 batches of data, let's use a single batch. This should save time while you iterate on the model to get a better accuracy.  Once the final validation accuracy is 50% or greater, run the model on all the data in the next section."
   ]
  },
  {
   "cell_type": "code",
   "execution_count": 71,
   "metadata": {
    "collapsed": false,
    "deletable": true,
    "editable": true
   },
   "outputs": [
    {
     "name": "stdout",
     "output_type": "stream",
     "text": [
      "Checking the Training on a Single Batch...\n",
      "Epoch  1, CIFAR-10 Batch 1:  Loss:     2.2299 training accuracy : 0.225000 Validation Accuracy: 0.232000\n",
      "Epoch  2, CIFAR-10 Batch 1:  Loss:     2.1704 training accuracy : 0.225000 Validation Accuracy: 0.271200\n",
      "Epoch  3, CIFAR-10 Batch 1:  Loss:     2.2010 training accuracy : 0.275000 Validation Accuracy: 0.263200\n",
      "Epoch  4, CIFAR-10 Batch 1:  Loss:     2.1738 training accuracy : 0.225000 Validation Accuracy: 0.283800\n",
      "Epoch  5, CIFAR-10 Batch 1:  Loss:     2.1335 training accuracy : 0.200000 Validation Accuracy: 0.307800\n",
      "Epoch  6, CIFAR-10 Batch 1:  Loss:     2.0742 training accuracy : 0.200000 Validation Accuracy: 0.326000\n",
      "Epoch  7, CIFAR-10 Batch 1:  Loss:     2.0391 training accuracy : 0.225000 Validation Accuracy: 0.337600\n",
      "Epoch  8, CIFAR-10 Batch 1:  Loss:     1.9753 training accuracy : 0.275000 Validation Accuracy: 0.355000\n",
      "Epoch  9, CIFAR-10 Batch 1:  Loss:     1.9277 training accuracy : 0.250000 Validation Accuracy: 0.368200\n",
      "Epoch 10, CIFAR-10 Batch 1:  Loss:     1.8922 training accuracy : 0.325000 Validation Accuracy: 0.379000\n",
      "Epoch 11, CIFAR-10 Batch 1:  Loss:     1.8316 training accuracy : 0.400000 Validation Accuracy: 0.387200\n",
      "Epoch 12, CIFAR-10 Batch 1:  Loss:     1.8009 training accuracy : 0.350000 Validation Accuracy: 0.395600\n",
      "Epoch 13, CIFAR-10 Batch 1:  Loss:     1.7555 training accuracy : 0.375000 Validation Accuracy: 0.403400\n",
      "Epoch 14, CIFAR-10 Batch 1:  Loss:     1.7172 training accuracy : 0.425000 Validation Accuracy: 0.406600\n",
      "Epoch 15, CIFAR-10 Batch 1:  Loss:     1.7081 training accuracy : 0.400000 Validation Accuracy: 0.415200\n",
      "Epoch 16, CIFAR-10 Batch 1:  Loss:     1.6876 training accuracy : 0.450000 Validation Accuracy: 0.420400\n",
      "Epoch 17, CIFAR-10 Batch 1:  Loss:     1.6730 training accuracy : 0.425000 Validation Accuracy: 0.434000\n",
      "Epoch 18, CIFAR-10 Batch 1:  Loss:     1.6313 training accuracy : 0.400000 Validation Accuracy: 0.431600\n",
      "Epoch 19, CIFAR-10 Batch 1:  Loss:     1.6265 training accuracy : 0.475000 Validation Accuracy: 0.447600\n",
      "Epoch 20, CIFAR-10 Batch 1:  Loss:     1.6234 training accuracy : 0.425000 Validation Accuracy: 0.446400\n",
      "Epoch 21, CIFAR-10 Batch 1:  Loss:     1.6209 training accuracy : 0.450000 Validation Accuracy: 0.455200\n",
      "Epoch 22, CIFAR-10 Batch 1:  Loss:     1.5789 training accuracy : 0.450000 Validation Accuracy: 0.459400\n",
      "Epoch 23, CIFAR-10 Batch 1:  Loss:     1.5546 training accuracy : 0.425000 Validation Accuracy: 0.463800\n",
      "Epoch 24, CIFAR-10 Batch 1:  Loss:     1.5367 training accuracy : 0.475000 Validation Accuracy: 0.470400\n",
      "Epoch 25, CIFAR-10 Batch 1:  Loss:     1.5069 training accuracy : 0.475000 Validation Accuracy: 0.475600\n",
      "Epoch 26, CIFAR-10 Batch 1:  Loss:     1.4875 training accuracy : 0.425000 Validation Accuracy: 0.479800\n",
      "Epoch 27, CIFAR-10 Batch 1:  Loss:     1.4863 training accuracy : 0.450000 Validation Accuracy: 0.484800\n",
      "Epoch 28, CIFAR-10 Batch 1:  Loss:     1.4230 training accuracy : 0.475000 Validation Accuracy: 0.486000\n",
      "Epoch 29, CIFAR-10 Batch 1:  Loss:     1.4496 training accuracy : 0.425000 Validation Accuracy: 0.490400\n",
      "Epoch 30, CIFAR-10 Batch 1:  Loss:     1.4703 training accuracy : 0.425000 Validation Accuracy: 0.487200\n",
      "Epoch 31, CIFAR-10 Batch 1:  Loss:     1.4176 training accuracy : 0.450000 Validation Accuracy: 0.491000\n",
      "Epoch 32, CIFAR-10 Batch 1:  Loss:     1.4418 training accuracy : 0.450000 Validation Accuracy: 0.491400\n",
      "Epoch 33, CIFAR-10 Batch 1:  Loss:     1.3870 training accuracy : 0.450000 Validation Accuracy: 0.498200\n",
      "Epoch 34, CIFAR-10 Batch 1:  Loss:     1.3835 training accuracy : 0.550000 Validation Accuracy: 0.496000\n",
      "Epoch 35, CIFAR-10 Batch 1:  Loss:     1.3707 training accuracy : 0.500000 Validation Accuracy: 0.502400\n",
      "Epoch 36, CIFAR-10 Batch 1:  Loss:     1.3490 training accuracy : 0.475000 Validation Accuracy: 0.502600\n",
      "Epoch 37, CIFAR-10 Batch 1:  Loss:     1.3628 training accuracy : 0.500000 Validation Accuracy: 0.502400\n",
      "Epoch 38, CIFAR-10 Batch 1:  Loss:     1.3273 training accuracy : 0.500000 Validation Accuracy: 0.505600\n",
      "Epoch 39, CIFAR-10 Batch 1:  Loss:     1.2995 training accuracy : 0.500000 Validation Accuracy: 0.508200\n",
      "Epoch 40, CIFAR-10 Batch 1:  Loss:     1.2691 training accuracy : 0.575000 Validation Accuracy: 0.514200\n",
      "Epoch 41, CIFAR-10 Batch 1:  Loss:     1.3398 training accuracy : 0.450000 Validation Accuracy: 0.505400\n",
      "Epoch 42, CIFAR-10 Batch 1:  Loss:     1.2895 training accuracy : 0.600000 Validation Accuracy: 0.511400\n",
      "Epoch 43, CIFAR-10 Batch 1:  Loss:     1.2596 training accuracy : 0.575000 Validation Accuracy: 0.517200\n",
      "Epoch 44, CIFAR-10 Batch 1:  Loss:     1.2360 training accuracy : 0.550000 Validation Accuracy: 0.517200\n",
      "Epoch 45, CIFAR-10 Batch 1:  Loss:     1.1864 training accuracy : 0.600000 Validation Accuracy: 0.516600\n",
      "Epoch 46, CIFAR-10 Batch 1:  Loss:     1.1688 training accuracy : 0.525000 Validation Accuracy: 0.519600\n",
      "Epoch 47, CIFAR-10 Batch 1:  Loss:     1.2051 training accuracy : 0.550000 Validation Accuracy: 0.512600\n",
      "Epoch 48, CIFAR-10 Batch 1:  Loss:     1.1583 training accuracy : 0.575000 Validation Accuracy: 0.523000\n",
      "Epoch 49, CIFAR-10 Batch 1:  Loss:     1.1613 training accuracy : 0.500000 Validation Accuracy: 0.519000\n",
      "Epoch 50, CIFAR-10 Batch 1:  Loss:     1.1427 training accuracy : 0.575000 Validation Accuracy: 0.527400\n"
     ]
    }
   ],
   "source": [
    "\"\"\"\n",
    "DON'T MODIFY ANYTHING IN THIS CELL\n",
    "\"\"\"\n",
    "print('Checking the Training on a Single Batch...')\n",
    "with tf.Session() as sess:\n",
    "    # Initializing the variables\n",
    "    sess.run(tf.global_variables_initializer())\n",
    "    \n",
    "    # Training cycle\n",
    "    for epoch in range(epochs):\n",
    "        batch_i = 1\n",
    "        for batch_features, batch_labels in helper.load_preprocess_training_batch(batch_i, batch_size):\n",
    "            train_neural_network(sess, optimizer, keep_probability, batch_features, batch_labels)\n",
    "        print('Epoch {:>2}, CIFAR-10 Batch {}:  '.format(epoch + 1, batch_i), end='')\n",
    "        print_stats(sess, batch_features, batch_labels, cost, accuracy)"
   ]
  },
  {
   "cell_type": "markdown",
   "metadata": {
    "deletable": true,
    "editable": true
   },
   "source": [
    "### Fully Train the Model\n",
    "Now that you got a good accuracy with a single CIFAR-10 batch, try it with all five batches."
   ]
  },
  {
   "cell_type": "code",
   "execution_count": 72,
   "metadata": {
    "collapsed": false,
    "deletable": true,
    "editable": true
   },
   "outputs": [
    {
     "name": "stdout",
     "output_type": "stream",
     "text": [
      "Training...\n",
      "Epoch  1, CIFAR-10 Batch 1:  Loss:     2.2484 training accuracy : 0.175000 Validation Accuracy: 0.228400\n",
      "Epoch  1, CIFAR-10 Batch 2:  Loss:     2.1411 training accuracy : 0.275000 Validation Accuracy: 0.244600\n",
      "Epoch  1, CIFAR-10 Batch 3:  Loss:     1.7662 training accuracy : 0.325000 Validation Accuracy: 0.286200\n",
      "Epoch  1, CIFAR-10 Batch 4:  Loss:     1.8957 training accuracy : 0.325000 Validation Accuracy: 0.313600\n",
      "Epoch  1, CIFAR-10 Batch 5:  Loss:     2.0028 training accuracy : 0.275000 Validation Accuracy: 0.341800\n",
      "Epoch  2, CIFAR-10 Batch 1:  Loss:     2.0855 training accuracy : 0.375000 Validation Accuracy: 0.354000\n",
      "Epoch  2, CIFAR-10 Batch 2:  Loss:     1.9111 training accuracy : 0.375000 Validation Accuracy: 0.352800\n",
      "Epoch  2, CIFAR-10 Batch 3:  Loss:     1.4882 training accuracy : 0.475000 Validation Accuracy: 0.375200\n",
      "Epoch  2, CIFAR-10 Batch 4:  Loss:     1.6860 training accuracy : 0.425000 Validation Accuracy: 0.386400\n",
      "Epoch  2, CIFAR-10 Batch 5:  Loss:     1.8450 training accuracy : 0.325000 Validation Accuracy: 0.400400\n",
      "Epoch  3, CIFAR-10 Batch 1:  Loss:     1.9420 training accuracy : 0.350000 Validation Accuracy: 0.420000\n",
      "Epoch  3, CIFAR-10 Batch 2:  Loss:     1.7969 training accuracy : 0.400000 Validation Accuracy: 0.409600\n",
      "Epoch  3, CIFAR-10 Batch 3:  Loss:     1.3713 training accuracy : 0.400000 Validation Accuracy: 0.426000\n",
      "Epoch  3, CIFAR-10 Batch 4:  Loss:     1.5733 training accuracy : 0.425000 Validation Accuracy: 0.427600\n",
      "Epoch  3, CIFAR-10 Batch 5:  Loss:     1.7956 training accuracy : 0.350000 Validation Accuracy: 0.431200\n",
      "Epoch  4, CIFAR-10 Batch 1:  Loss:     1.8521 training accuracy : 0.475000 Validation Accuracy: 0.450200\n",
      "Epoch  4, CIFAR-10 Batch 2:  Loss:     1.7405 training accuracy : 0.350000 Validation Accuracy: 0.445000\n",
      "Epoch  4, CIFAR-10 Batch 3:  Loss:     1.3176 training accuracy : 0.475000 Validation Accuracy: 0.451000\n",
      "Epoch  4, CIFAR-10 Batch 4:  Loss:     1.4759 training accuracy : 0.475000 Validation Accuracy: 0.460600\n",
      "Epoch  4, CIFAR-10 Batch 5:  Loss:     1.7144 training accuracy : 0.325000 Validation Accuracy: 0.457600\n",
      "Epoch  5, CIFAR-10 Batch 1:  Loss:     1.7576 training accuracy : 0.500000 Validation Accuracy: 0.473200\n",
      "Epoch  5, CIFAR-10 Batch 2:  Loss:     1.7098 training accuracy : 0.450000 Validation Accuracy: 0.466200\n",
      "Epoch  5, CIFAR-10 Batch 3:  Loss:     1.2478 training accuracy : 0.475000 Validation Accuracy: 0.467400\n",
      "Epoch  5, CIFAR-10 Batch 4:  Loss:     1.4677 training accuracy : 0.475000 Validation Accuracy: 0.476200\n",
      "Epoch  5, CIFAR-10 Batch 5:  Loss:     1.6554 training accuracy : 0.350000 Validation Accuracy: 0.468000\n",
      "Epoch  6, CIFAR-10 Batch 1:  Loss:     1.6922 training accuracy : 0.450000 Validation Accuracy: 0.477800\n",
      "Epoch  6, CIFAR-10 Batch 2:  Loss:     1.5714 training accuracy : 0.450000 Validation Accuracy: 0.479000\n",
      "Epoch  6, CIFAR-10 Batch 3:  Loss:     1.1749 training accuracy : 0.450000 Validation Accuracy: 0.478200\n",
      "Epoch  6, CIFAR-10 Batch 4:  Loss:     1.3923 training accuracy : 0.500000 Validation Accuracy: 0.492200\n",
      "Epoch  6, CIFAR-10 Batch 5:  Loss:     1.6155 training accuracy : 0.400000 Validation Accuracy: 0.477000\n",
      "Epoch  7, CIFAR-10 Batch 1:  Loss:     1.6452 training accuracy : 0.450000 Validation Accuracy: 0.495400\n",
      "Epoch  7, CIFAR-10 Batch 2:  Loss:     1.5345 training accuracy : 0.450000 Validation Accuracy: 0.496000\n",
      "Epoch  7, CIFAR-10 Batch 3:  Loss:     1.1199 training accuracy : 0.525000 Validation Accuracy: 0.490600\n",
      "Epoch  7, CIFAR-10 Batch 4:  Loss:     1.3518 training accuracy : 0.575000 Validation Accuracy: 0.493000\n",
      "Epoch  7, CIFAR-10 Batch 5:  Loss:     1.4995 training accuracy : 0.425000 Validation Accuracy: 0.500000\n",
      "Epoch  8, CIFAR-10 Batch 1:  Loss:     1.5819 training accuracy : 0.475000 Validation Accuracy: 0.509600\n",
      "Epoch  8, CIFAR-10 Batch 2:  Loss:     1.4991 training accuracy : 0.425000 Validation Accuracy: 0.507200\n",
      "Epoch  8, CIFAR-10 Batch 3:  Loss:     1.1009 training accuracy : 0.525000 Validation Accuracy: 0.498200\n",
      "Epoch  8, CIFAR-10 Batch 4:  Loss:     1.3201 training accuracy : 0.600000 Validation Accuracy: 0.505000\n",
      "Epoch  8, CIFAR-10 Batch 5:  Loss:     1.4303 training accuracy : 0.450000 Validation Accuracy: 0.512200\n",
      "Epoch  9, CIFAR-10 Batch 1:  Loss:     1.5651 training accuracy : 0.500000 Validation Accuracy: 0.527800\n",
      "Epoch  9, CIFAR-10 Batch 2:  Loss:     1.4453 training accuracy : 0.425000 Validation Accuracy: 0.527800\n",
      "Epoch  9, CIFAR-10 Batch 3:  Loss:     1.0341 training accuracy : 0.525000 Validation Accuracy: 0.520200\n",
      "Epoch  9, CIFAR-10 Batch 4:  Loss:     1.2567 training accuracy : 0.575000 Validation Accuracy: 0.526400\n",
      "Epoch  9, CIFAR-10 Batch 5:  Loss:     1.3668 training accuracy : 0.450000 Validation Accuracy: 0.524400\n",
      "Epoch 10, CIFAR-10 Batch 1:  Loss:     1.5822 training accuracy : 0.475000 Validation Accuracy: 0.535400\n",
      "Epoch 10, CIFAR-10 Batch 2:  Loss:     1.3916 training accuracy : 0.400000 Validation Accuracy: 0.525600\n",
      "Epoch 10, CIFAR-10 Batch 3:  Loss:     1.0135 training accuracy : 0.650000 Validation Accuracy: 0.530400\n",
      "Epoch 10, CIFAR-10 Batch 4:  Loss:     1.2396 training accuracy : 0.550000 Validation Accuracy: 0.528600\n",
      "Epoch 10, CIFAR-10 Batch 5:  Loss:     1.2910 training accuracy : 0.500000 Validation Accuracy: 0.542600\n",
      "Epoch 11, CIFAR-10 Batch 1:  Loss:     1.4948 training accuracy : 0.475000 Validation Accuracy: 0.552800\n",
      "Epoch 11, CIFAR-10 Batch 2:  Loss:     1.3804 training accuracy : 0.475000 Validation Accuracy: 0.536600\n",
      "Epoch 11, CIFAR-10 Batch 3:  Loss:     0.9945 training accuracy : 0.575000 Validation Accuracy: 0.541600\n",
      "Epoch 11, CIFAR-10 Batch 4:  Loss:     1.2027 training accuracy : 0.575000 Validation Accuracy: 0.538200\n",
      "Epoch 11, CIFAR-10 Batch 5:  Loss:     1.2616 training accuracy : 0.525000 Validation Accuracy: 0.549600\n",
      "Epoch 12, CIFAR-10 Batch 1:  Loss:     1.4601 training accuracy : 0.475000 Validation Accuracy: 0.555400\n",
      "Epoch 12, CIFAR-10 Batch 2:  Loss:     1.3474 training accuracy : 0.500000 Validation Accuracy: 0.550200\n",
      "Epoch 12, CIFAR-10 Batch 3:  Loss:     0.9347 training accuracy : 0.700000 Validation Accuracy: 0.549600\n",
      "Epoch 12, CIFAR-10 Batch 4:  Loss:     1.1435 training accuracy : 0.600000 Validation Accuracy: 0.549800\n",
      "Epoch 12, CIFAR-10 Batch 5:  Loss:     1.2118 training accuracy : 0.550000 Validation Accuracy: 0.556600\n",
      "Epoch 13, CIFAR-10 Batch 1:  Loss:     1.4520 training accuracy : 0.525000 Validation Accuracy: 0.563200\n",
      "Epoch 13, CIFAR-10 Batch 2:  Loss:     1.3378 training accuracy : 0.500000 Validation Accuracy: 0.558000\n",
      "Epoch 13, CIFAR-10 Batch 3:  Loss:     0.8998 training accuracy : 0.725000 Validation Accuracy: 0.554600\n",
      "Epoch 13, CIFAR-10 Batch 4:  Loss:     1.1153 training accuracy : 0.625000 Validation Accuracy: 0.567800\n",
      "Epoch 13, CIFAR-10 Batch 5:  Loss:     1.1871 training accuracy : 0.575000 Validation Accuracy: 0.568000\n",
      "Epoch 14, CIFAR-10 Batch 1:  Loss:     1.4590 training accuracy : 0.600000 Validation Accuracy: 0.574400\n",
      "Epoch 14, CIFAR-10 Batch 2:  Loss:     1.2861 training accuracy : 0.525000 Validation Accuracy: 0.565400\n",
      "Epoch 14, CIFAR-10 Batch 3:  Loss:     0.9026 training accuracy : 0.725000 Validation Accuracy: 0.565200\n",
      "Epoch 14, CIFAR-10 Batch 4:  Loss:     1.0829 training accuracy : 0.650000 Validation Accuracy: 0.561200\n",
      "Epoch 14, CIFAR-10 Batch 5:  Loss:     1.1633 training accuracy : 0.625000 Validation Accuracy: 0.576000\n",
      "Epoch 15, CIFAR-10 Batch 1:  Loss:     1.4248 training accuracy : 0.575000 Validation Accuracy: 0.580200\n",
      "Epoch 15, CIFAR-10 Batch 2:  Loss:     1.2970 training accuracy : 0.525000 Validation Accuracy: 0.577600\n",
      "Epoch 15, CIFAR-10 Batch 3:  Loss:     0.8890 training accuracy : 0.675000 Validation Accuracy: 0.579600\n",
      "Epoch 15, CIFAR-10 Batch 4:  Loss:     1.0768 training accuracy : 0.625000 Validation Accuracy: 0.562600\n",
      "Epoch 15, CIFAR-10 Batch 5:  Loss:     1.1216 training accuracy : 0.625000 Validation Accuracy: 0.583000\n",
      "Epoch 16, CIFAR-10 Batch 1:  Loss:     1.3946 training accuracy : 0.600000 Validation Accuracy: 0.583600\n",
      "Epoch 16, CIFAR-10 Batch 2:  Loss:     1.2918 training accuracy : 0.500000 Validation Accuracy: 0.575800\n",
      "Epoch 16, CIFAR-10 Batch 3:  Loss:     0.8906 training accuracy : 0.725000 Validation Accuracy: 0.587400\n",
      "Epoch 16, CIFAR-10 Batch 4:  Loss:     1.0232 training accuracy : 0.725000 Validation Accuracy: 0.570800\n",
      "Epoch 16, CIFAR-10 Batch 5:  Loss:     1.0872 training accuracy : 0.625000 Validation Accuracy: 0.585600\n",
      "Epoch 17, CIFAR-10 Batch 1:  Loss:     1.4410 training accuracy : 0.550000 Validation Accuracy: 0.587600\n",
      "Epoch 17, CIFAR-10 Batch 2:  Loss:     1.2275 training accuracy : 0.550000 Validation Accuracy: 0.593600\n",
      "Epoch 17, CIFAR-10 Batch 3:  Loss:     0.8613 training accuracy : 0.700000 Validation Accuracy: 0.584400\n",
      "Epoch 17, CIFAR-10 Batch 4:  Loss:     0.9945 training accuracy : 0.675000 Validation Accuracy: 0.585400\n",
      "Epoch 17, CIFAR-10 Batch 5:  Loss:     1.0934 training accuracy : 0.600000 Validation Accuracy: 0.593200\n",
      "Epoch 18, CIFAR-10 Batch 1:  Loss:     1.3755 training accuracy : 0.550000 Validation Accuracy: 0.589800\n",
      "Epoch 18, CIFAR-10 Batch 2:  Loss:     1.2135 training accuracy : 0.600000 Validation Accuracy: 0.589400\n",
      "Epoch 18, CIFAR-10 Batch 3:  Loss:     0.8465 training accuracy : 0.750000 Validation Accuracy: 0.593000\n",
      "Epoch 18, CIFAR-10 Batch 4:  Loss:     0.9690 training accuracy : 0.700000 Validation Accuracy: 0.578600\n",
      "Epoch 18, CIFAR-10 Batch 5:  Loss:     1.0652 training accuracy : 0.625000 Validation Accuracy: 0.600600\n",
      "Epoch 19, CIFAR-10 Batch 1:  Loss:     1.3244 training accuracy : 0.600000 Validation Accuracy: 0.599800\n",
      "Epoch 19, CIFAR-10 Batch 2:  Loss:     1.2537 training accuracy : 0.600000 Validation Accuracy: 0.599600\n",
      "Epoch 19, CIFAR-10 Batch 3:  Loss:     0.8313 training accuracy : 0.750000 Validation Accuracy: 0.601600\n",
      "Epoch 19, CIFAR-10 Batch 4:  Loss:     0.9339 training accuracy : 0.700000 Validation Accuracy: 0.584200\n",
      "Epoch 19, CIFAR-10 Batch 5:  Loss:     1.0904 training accuracy : 0.600000 Validation Accuracy: 0.607200\n",
      "Epoch 20, CIFAR-10 Batch 1:  Loss:     1.3324 training accuracy : 0.525000 Validation Accuracy: 0.604800\n",
      "Epoch 20, CIFAR-10 Batch 2:  Loss:     1.1614 training accuracy : 0.575000 Validation Accuracy: 0.601600\n",
      "Epoch 20, CIFAR-10 Batch 3:  Loss:     0.8349 training accuracy : 0.725000 Validation Accuracy: 0.608800\n",
      "Epoch 20, CIFAR-10 Batch 4:  Loss:     0.9280 training accuracy : 0.725000 Validation Accuracy: 0.605800\n",
      "Epoch 20, CIFAR-10 Batch 5:  Loss:     1.0628 training accuracy : 0.625000 Validation Accuracy: 0.604400\n",
      "Epoch 21, CIFAR-10 Batch 1:  Loss:     1.3305 training accuracy : 0.575000 Validation Accuracy: 0.603800\n",
      "Epoch 21, CIFAR-10 Batch 2:  Loss:     1.1554 training accuracy : 0.625000 Validation Accuracy: 0.606800\n",
      "Epoch 21, CIFAR-10 Batch 3:  Loss:     0.7970 training accuracy : 0.800000 Validation Accuracy: 0.609600\n",
      "Epoch 21, CIFAR-10 Batch 4:  Loss:     0.9573 training accuracy : 0.675000 Validation Accuracy: 0.606600\n",
      "Epoch 21, CIFAR-10 Batch 5:  Loss:     1.0964 training accuracy : 0.625000 Validation Accuracy: 0.609200\n",
      "Epoch 22, CIFAR-10 Batch 1:  Loss:     1.2569 training accuracy : 0.600000 Validation Accuracy: 0.611000\n",
      "Epoch 22, CIFAR-10 Batch 2:  Loss:     1.1464 training accuracy : 0.650000 Validation Accuracy: 0.612000\n",
      "Epoch 22, CIFAR-10 Batch 3:  Loss:     0.7996 training accuracy : 0.750000 Validation Accuracy: 0.608800\n",
      "Epoch 22, CIFAR-10 Batch 4:  Loss:     0.8918 training accuracy : 0.750000 Validation Accuracy: 0.598600\n",
      "Epoch 22, CIFAR-10 Batch 5:  Loss:     1.0818 training accuracy : 0.625000 Validation Accuracy: 0.614400\n",
      "Epoch 23, CIFAR-10 Batch 1:  Loss:     1.3041 training accuracy : 0.550000 Validation Accuracy: 0.610600\n",
      "Epoch 23, CIFAR-10 Batch 2:  Loss:     1.1360 training accuracy : 0.675000 Validation Accuracy: 0.622400\n",
      "Epoch 23, CIFAR-10 Batch 3:  Loss:     0.8166 training accuracy : 0.700000 Validation Accuracy: 0.616000\n",
      "Epoch 23, CIFAR-10 Batch 4:  Loss:     0.8686 training accuracy : 0.725000 Validation Accuracy: 0.608600\n",
      "Epoch 23, CIFAR-10 Batch 5:  Loss:     1.0618 training accuracy : 0.625000 Validation Accuracy: 0.606600\n",
      "Epoch 24, CIFAR-10 Batch 1:  Loss:     1.2616 training accuracy : 0.600000 Validation Accuracy: 0.614400\n",
      "Epoch 24, CIFAR-10 Batch 2:  Loss:     1.1544 training accuracy : 0.700000 Validation Accuracy: 0.629000\n",
      "Epoch 24, CIFAR-10 Batch 3:  Loss:     0.7953 training accuracy : 0.750000 Validation Accuracy: 0.622600\n",
      "Epoch 24, CIFAR-10 Batch 4:  Loss:     0.9024 training accuracy : 0.700000 Validation Accuracy: 0.613000\n",
      "Epoch 24, CIFAR-10 Batch 5:  Loss:     1.0540 training accuracy : 0.575000 Validation Accuracy: 0.616800\n",
      "Epoch 25, CIFAR-10 Batch 1:  Loss:     1.2401 training accuracy : 0.575000 Validation Accuracy: 0.625000\n",
      "Epoch 25, CIFAR-10 Batch 2:  Loss:     1.1073 training accuracy : 0.625000 Validation Accuracy: 0.626400\n",
      "Epoch 25, CIFAR-10 Batch 3:  Loss:     0.7838 training accuracy : 0.725000 Validation Accuracy: 0.618800\n",
      "Epoch 25, CIFAR-10 Batch 4:  Loss:     0.8615 training accuracy : 0.700000 Validation Accuracy: 0.613600\n",
      "Epoch 25, CIFAR-10 Batch 5:  Loss:     1.0128 training accuracy : 0.575000 Validation Accuracy: 0.616400\n",
      "Epoch 26, CIFAR-10 Batch 1:  Loss:     1.1960 training accuracy : 0.625000 Validation Accuracy: 0.630400\n",
      "Epoch 26, CIFAR-10 Batch 2:  Loss:     1.0698 training accuracy : 0.675000 Validation Accuracy: 0.633400\n",
      "Epoch 26, CIFAR-10 Batch 3:  Loss:     0.7202 training accuracy : 0.775000 Validation Accuracy: 0.625400\n",
      "Epoch 26, CIFAR-10 Batch 4:  Loss:     0.8789 training accuracy : 0.600000 Validation Accuracy: 0.616400\n",
      "Epoch 26, CIFAR-10 Batch 5:  Loss:     1.0012 training accuracy : 0.600000 Validation Accuracy: 0.618400\n",
      "Epoch 27, CIFAR-10 Batch 1:  Loss:     1.2137 training accuracy : 0.575000 Validation Accuracy: 0.632800\n",
      "Epoch 27, CIFAR-10 Batch 2:  Loss:     1.1102 training accuracy : 0.650000 Validation Accuracy: 0.631200\n",
      "Epoch 27, CIFAR-10 Batch 3:  Loss:     0.7486 training accuracy : 0.775000 Validation Accuracy: 0.635400\n",
      "Epoch 27, CIFAR-10 Batch 4:  Loss:     0.8500 training accuracy : 0.675000 Validation Accuracy: 0.599000\n",
      "Epoch 27, CIFAR-10 Batch 5:  Loss:     0.9633 training accuracy : 0.625000 Validation Accuracy: 0.620200\n",
      "Epoch 28, CIFAR-10 Batch 1:  Loss:     1.1486 training accuracy : 0.600000 Validation Accuracy: 0.633600\n",
      "Epoch 28, CIFAR-10 Batch 2:  Loss:     1.0864 training accuracy : 0.650000 Validation Accuracy: 0.630600\n",
      "Epoch 28, CIFAR-10 Batch 3:  Loss:     0.6811 training accuracy : 0.825000 Validation Accuracy: 0.637200\n",
      "Epoch 28, CIFAR-10 Batch 4:  Loss:     0.8456 training accuracy : 0.725000 Validation Accuracy: 0.614400\n",
      "Epoch 28, CIFAR-10 Batch 5:  Loss:     0.9633 training accuracy : 0.650000 Validation Accuracy: 0.623400\n",
      "Epoch 29, CIFAR-10 Batch 1:  Loss:     1.1673 training accuracy : 0.625000 Validation Accuracy: 0.626000\n",
      "Epoch 29, CIFAR-10 Batch 2:  Loss:     1.0743 training accuracy : 0.625000 Validation Accuracy: 0.631800\n",
      "Epoch 29, CIFAR-10 Batch 3:  Loss:     0.6886 training accuracy : 0.800000 Validation Accuracy: 0.639000\n",
      "Epoch 29, CIFAR-10 Batch 4:  Loss:     0.8287 training accuracy : 0.725000 Validation Accuracy: 0.624200\n",
      "Epoch 29, CIFAR-10 Batch 5:  Loss:     0.9680 training accuracy : 0.650000 Validation Accuracy: 0.624200\n",
      "Epoch 30, CIFAR-10 Batch 1:  Loss:     1.1546 training accuracy : 0.600000 Validation Accuracy: 0.635200\n",
      "Epoch 30, CIFAR-10 Batch 2:  Loss:     1.0602 training accuracy : 0.675000 Validation Accuracy: 0.629800\n",
      "Epoch 30, CIFAR-10 Batch 3:  Loss:     0.6752 training accuracy : 0.850000 Validation Accuracy: 0.638600\n",
      "Epoch 30, CIFAR-10 Batch 4:  Loss:     0.8613 training accuracy : 0.600000 Validation Accuracy: 0.623600\n",
      "Epoch 30, CIFAR-10 Batch 5:  Loss:     0.9248 training accuracy : 0.650000 Validation Accuracy: 0.630400\n",
      "Epoch 31, CIFAR-10 Batch 1:  Loss:     1.1154 training accuracy : 0.600000 Validation Accuracy: 0.643200\n",
      "Epoch 31, CIFAR-10 Batch 2:  Loss:     1.0598 training accuracy : 0.625000 Validation Accuracy: 0.636800\n",
      "Epoch 31, CIFAR-10 Batch 3:  Loss:     0.6676 training accuracy : 0.825000 Validation Accuracy: 0.643400\n",
      "Epoch 31, CIFAR-10 Batch 4:  Loss:     0.8371 training accuracy : 0.725000 Validation Accuracy: 0.624400\n",
      "Epoch 31, CIFAR-10 Batch 5:  Loss:     0.9142 training accuracy : 0.625000 Validation Accuracy: 0.636200\n",
      "Epoch 32, CIFAR-10 Batch 1:  Loss:     1.1186 training accuracy : 0.625000 Validation Accuracy: 0.641800\n",
      "Epoch 32, CIFAR-10 Batch 2:  Loss:     1.0368 training accuracy : 0.625000 Validation Accuracy: 0.642200\n",
      "Epoch 32, CIFAR-10 Batch 3:  Loss:     0.6504 training accuracy : 0.800000 Validation Accuracy: 0.645600\n",
      "Epoch 32, CIFAR-10 Batch 4:  Loss:     0.8229 training accuracy : 0.700000 Validation Accuracy: 0.621600\n",
      "Epoch 32, CIFAR-10 Batch 5:  Loss:     0.9486 training accuracy : 0.600000 Validation Accuracy: 0.642200\n",
      "Epoch 33, CIFAR-10 Batch 1:  Loss:     1.1327 training accuracy : 0.625000 Validation Accuracy: 0.640600\n",
      "Epoch 33, CIFAR-10 Batch 2:  Loss:     1.0308 training accuracy : 0.700000 Validation Accuracy: 0.640200\n",
      "Epoch 33, CIFAR-10 Batch 3:  Loss:     0.6752 training accuracy : 0.850000 Validation Accuracy: 0.641000\n",
      "Epoch 33, CIFAR-10 Batch 4:  Loss:     0.8106 training accuracy : 0.675000 Validation Accuracy: 0.626000\n",
      "Epoch 33, CIFAR-10 Batch 5:  Loss:     0.9494 training accuracy : 0.700000 Validation Accuracy: 0.644000\n",
      "Epoch 34, CIFAR-10 Batch 1:  Loss:     1.1016 training accuracy : 0.575000 Validation Accuracy: 0.644800\n",
      "Epoch 34, CIFAR-10 Batch 2:  Loss:     1.0482 training accuracy : 0.700000 Validation Accuracy: 0.645200\n",
      "Epoch 34, CIFAR-10 Batch 3:  Loss:     0.6602 training accuracy : 0.800000 Validation Accuracy: 0.643200\n",
      "Epoch 34, CIFAR-10 Batch 4:  Loss:     0.7976 training accuracy : 0.700000 Validation Accuracy: 0.639000\n",
      "Epoch 34, CIFAR-10 Batch 5:  Loss:     0.9092 training accuracy : 0.700000 Validation Accuracy: 0.643200\n",
      "Epoch 35, CIFAR-10 Batch 1:  Loss:     1.1205 training accuracy : 0.600000 Validation Accuracy: 0.648600\n",
      "Epoch 35, CIFAR-10 Batch 2:  Loss:     1.0273 training accuracy : 0.625000 Validation Accuracy: 0.648600\n",
      "Epoch 35, CIFAR-10 Batch 3:  Loss:     0.6545 training accuracy : 0.825000 Validation Accuracy: 0.646400\n",
      "Epoch 35, CIFAR-10 Batch 4:  Loss:     0.8246 training accuracy : 0.700000 Validation Accuracy: 0.636400\n",
      "Epoch 35, CIFAR-10 Batch 5:  Loss:     0.9511 training accuracy : 0.625000 Validation Accuracy: 0.638000\n",
      "Epoch 36, CIFAR-10 Batch 1:  Loss:     1.0723 training accuracy : 0.625000 Validation Accuracy: 0.649200\n",
      "Epoch 36, CIFAR-10 Batch 2:  Loss:     0.9902 training accuracy : 0.725000 Validation Accuracy: 0.651400\n",
      "Epoch 36, CIFAR-10 Batch 3:  Loss:     0.6662 training accuracy : 0.800000 Validation Accuracy: 0.645600\n",
      "Epoch 36, CIFAR-10 Batch 4:  Loss:     0.7966 training accuracy : 0.675000 Validation Accuracy: 0.643000\n",
      "Epoch 36, CIFAR-10 Batch 5:  Loss:     0.8837 training accuracy : 0.700000 Validation Accuracy: 0.648400\n",
      "Epoch 37, CIFAR-10 Batch 1:  Loss:     1.0940 training accuracy : 0.600000 Validation Accuracy: 0.655000\n",
      "Epoch 37, CIFAR-10 Batch 2:  Loss:     0.9621 training accuracy : 0.675000 Validation Accuracy: 0.652400\n",
      "Epoch 37, CIFAR-10 Batch 3:  Loss:     0.6559 training accuracy : 0.800000 Validation Accuracy: 0.648200\n",
      "Epoch 37, CIFAR-10 Batch 4:  Loss:     0.7643 training accuracy : 0.725000 Validation Accuracy: 0.629600\n",
      "Epoch 37, CIFAR-10 Batch 5:  Loss:     0.8891 training accuracy : 0.725000 Validation Accuracy: 0.645600\n",
      "Epoch 38, CIFAR-10 Batch 1:  Loss:     1.0722 training accuracy : 0.600000 Validation Accuracy: 0.644400\n",
      "Epoch 38, CIFAR-10 Batch 2:  Loss:     0.9648 training accuracy : 0.700000 Validation Accuracy: 0.651400\n",
      "Epoch 38, CIFAR-10 Batch 3:  Loss:     0.6755 training accuracy : 0.750000 Validation Accuracy: 0.645000\n",
      "Epoch 38, CIFAR-10 Batch 4:  Loss:     0.8273 training accuracy : 0.675000 Validation Accuracy: 0.622200\n",
      "Epoch 38, CIFAR-10 Batch 5:  Loss:     0.9421 training accuracy : 0.625000 Validation Accuracy: 0.638200\n",
      "Epoch 39, CIFAR-10 Batch 1:  Loss:     1.0606 training accuracy : 0.600000 Validation Accuracy: 0.661600\n",
      "Epoch 39, CIFAR-10 Batch 2:  Loss:     0.9843 training accuracy : 0.750000 Validation Accuracy: 0.649600\n",
      "Epoch 39, CIFAR-10 Batch 3:  Loss:     0.6362 training accuracy : 0.800000 Validation Accuracy: 0.652200\n",
      "Epoch 39, CIFAR-10 Batch 4:  Loss:     0.7922 training accuracy : 0.675000 Validation Accuracy: 0.636800\n",
      "Epoch 39, CIFAR-10 Batch 5:  Loss:     0.8919 training accuracy : 0.725000 Validation Accuracy: 0.653000\n",
      "Epoch 40, CIFAR-10 Batch 1:  Loss:     1.0547 training accuracy : 0.600000 Validation Accuracy: 0.660200\n",
      "Epoch 40, CIFAR-10 Batch 2:  Loss:     0.9806 training accuracy : 0.700000 Validation Accuracy: 0.655200\n",
      "Epoch 40, CIFAR-10 Batch 3:  Loss:     0.6721 training accuracy : 0.850000 Validation Accuracy: 0.648200\n",
      "Epoch 40, CIFAR-10 Batch 4:  Loss:     0.7773 training accuracy : 0.725000 Validation Accuracy: 0.644200\n",
      "Epoch 40, CIFAR-10 Batch 5:  Loss:     0.8814 training accuracy : 0.750000 Validation Accuracy: 0.658600\n",
      "Epoch 41, CIFAR-10 Batch 1:  Loss:     1.0443 training accuracy : 0.625000 Validation Accuracy: 0.663200\n",
      "Epoch 41, CIFAR-10 Batch 2:  Loss:     0.9345 training accuracy : 0.675000 Validation Accuracy: 0.656000\n",
      "Epoch 41, CIFAR-10 Batch 3:  Loss:     0.6423 training accuracy : 0.825000 Validation Accuracy: 0.657600\n",
      "Epoch 41, CIFAR-10 Batch 4:  Loss:     0.7943 training accuracy : 0.700000 Validation Accuracy: 0.642000\n",
      "Epoch 41, CIFAR-10 Batch 5:  Loss:     0.8225 training accuracy : 0.750000 Validation Accuracy: 0.658000\n",
      "Epoch 42, CIFAR-10 Batch 1:  Loss:     1.0778 training accuracy : 0.600000 Validation Accuracy: 0.656000\n",
      "Epoch 42, CIFAR-10 Batch 2:  Loss:     0.9467 training accuracy : 0.750000 Validation Accuracy: 0.656800\n",
      "Epoch 42, CIFAR-10 Batch 3:  Loss:     0.6293 training accuracy : 0.850000 Validation Accuracy: 0.654000\n",
      "Epoch 42, CIFAR-10 Batch 4:  Loss:     0.7754 training accuracy : 0.700000 Validation Accuracy: 0.648200\n",
      "Epoch 42, CIFAR-10 Batch 5:  Loss:     0.8501 training accuracy : 0.725000 Validation Accuracy: 0.653200\n",
      "Epoch 43, CIFAR-10 Batch 1:  Loss:     1.0795 training accuracy : 0.600000 Validation Accuracy: 0.661400\n",
      "Epoch 43, CIFAR-10 Batch 2:  Loss:     0.9459 training accuracy : 0.700000 Validation Accuracy: 0.660600\n",
      "Epoch 43, CIFAR-10 Batch 3:  Loss:     0.6159 training accuracy : 0.850000 Validation Accuracy: 0.656400\n",
      "Epoch 43, CIFAR-10 Batch 4:  Loss:     0.7620 training accuracy : 0.700000 Validation Accuracy: 0.654600\n",
      "Epoch 43, CIFAR-10 Batch 5:  Loss:     0.8317 training accuracy : 0.725000 Validation Accuracy: 0.654400\n",
      "Epoch 44, CIFAR-10 Batch 1:  Loss:     1.0428 training accuracy : 0.650000 Validation Accuracy: 0.656600\n",
      "Epoch 44, CIFAR-10 Batch 2:  Loss:     0.9196 training accuracy : 0.775000 Validation Accuracy: 0.657600\n",
      "Epoch 44, CIFAR-10 Batch 3:  Loss:     0.5974 training accuracy : 0.850000 Validation Accuracy: 0.655800\n",
      "Epoch 44, CIFAR-10 Batch 4:  Loss:     0.7805 training accuracy : 0.650000 Validation Accuracy: 0.638800\n",
      "Epoch 44, CIFAR-10 Batch 5:  Loss:     0.8439 training accuracy : 0.725000 Validation Accuracy: 0.656200\n",
      "Epoch 45, CIFAR-10 Batch 1:  Loss:     0.9780 training accuracy : 0.700000 Validation Accuracy: 0.660800\n",
      "Epoch 45, CIFAR-10 Batch 2:  Loss:     0.9461 training accuracy : 0.750000 Validation Accuracy: 0.666000\n",
      "Epoch 45, CIFAR-10 Batch 3:  Loss:     0.6282 training accuracy : 0.825000 Validation Accuracy: 0.663600\n",
      "Epoch 45, CIFAR-10 Batch 4:  Loss:     0.7536 training accuracy : 0.725000 Validation Accuracy: 0.646600\n",
      "Epoch 45, CIFAR-10 Batch 5:  Loss:     0.8365 training accuracy : 0.700000 Validation Accuracy: 0.652200\n",
      "Epoch 46, CIFAR-10 Batch 1:  Loss:     0.9886 training accuracy : 0.625000 Validation Accuracy: 0.663600\n",
      "Epoch 46, CIFAR-10 Batch 2:  Loss:     0.9166 training accuracy : 0.675000 Validation Accuracy: 0.661000\n",
      "Epoch 46, CIFAR-10 Batch 3:  Loss:     0.5863 training accuracy : 0.825000 Validation Accuracy: 0.661600\n",
      "Epoch 46, CIFAR-10 Batch 4:  Loss:     0.7501 training accuracy : 0.775000 Validation Accuracy: 0.653200\n",
      "Epoch 46, CIFAR-10 Batch 5:  Loss:     0.8043 training accuracy : 0.750000 Validation Accuracy: 0.663600\n",
      "Epoch 47, CIFAR-10 Batch 1:  Loss:     0.9314 training accuracy : 0.625000 Validation Accuracy: 0.665600\n",
      "Epoch 47, CIFAR-10 Batch 2:  Loss:     0.9358 training accuracy : 0.725000 Validation Accuracy: 0.660800\n",
      "Epoch 47, CIFAR-10 Batch 3:  Loss:     0.5468 training accuracy : 0.850000 Validation Accuracy: 0.659600\n",
      "Epoch 47, CIFAR-10 Batch 4:  Loss:     0.7720 training accuracy : 0.700000 Validation Accuracy: 0.658200\n",
      "Epoch 47, CIFAR-10 Batch 5:  Loss:     0.8041 training accuracy : 0.700000 Validation Accuracy: 0.656800\n",
      "Epoch 48, CIFAR-10 Batch 1:  Loss:     0.9711 training accuracy : 0.675000 Validation Accuracy: 0.666600\n",
      "Epoch 48, CIFAR-10 Batch 2:  Loss:     0.9159 training accuracy : 0.650000 Validation Accuracy: 0.661600\n",
      "Epoch 48, CIFAR-10 Batch 3:  Loss:     0.5784 training accuracy : 0.825000 Validation Accuracy: 0.658400\n",
      "Epoch 48, CIFAR-10 Batch 4:  Loss:     0.7466 training accuracy : 0.750000 Validation Accuracy: 0.656800\n",
      "Epoch 48, CIFAR-10 Batch 5:  Loss:     0.8170 training accuracy : 0.725000 Validation Accuracy: 0.658200\n",
      "Epoch 49, CIFAR-10 Batch 1:  Loss:     0.9329 training accuracy : 0.650000 Validation Accuracy: 0.663400\n",
      "Epoch 49, CIFAR-10 Batch 2:  Loss:     0.9130 training accuracy : 0.675000 Validation Accuracy: 0.659000\n",
      "Epoch 49, CIFAR-10 Batch 3:  Loss:     0.5984 training accuracy : 0.875000 Validation Accuracy: 0.653400\n",
      "Epoch 49, CIFAR-10 Batch 4:  Loss:     0.7444 training accuracy : 0.775000 Validation Accuracy: 0.659800\n",
      "Epoch 49, CIFAR-10 Batch 5:  Loss:     0.8287 training accuracy : 0.750000 Validation Accuracy: 0.666000\n",
      "Epoch 50, CIFAR-10 Batch 1:  Loss:     0.9214 training accuracy : 0.675000 Validation Accuracy: 0.663600\n",
      "Epoch 50, CIFAR-10 Batch 2:  Loss:     0.8990 training accuracy : 0.725000 Validation Accuracy: 0.665400\n",
      "Epoch 50, CIFAR-10 Batch 3:  Loss:     0.5821 training accuracy : 0.850000 Validation Accuracy: 0.662400\n",
      "Epoch 50, CIFAR-10 Batch 4:  Loss:     0.6843 training accuracy : 0.800000 Validation Accuracy: 0.659800\n",
      "Epoch 50, CIFAR-10 Batch 5:  Loss:     0.8170 training accuracy : 0.700000 Validation Accuracy: 0.656400\n"
     ]
    }
   ],
   "source": [
    "\"\"\"\n",
    "DON'T MODIFY ANYTHING IN THIS CELL\n",
    "\"\"\"\n",
    "save_model_path = './image_classification'\n",
    "\n",
    "print('Training...')\n",
    "with tf.Session() as sess:\n",
    "    # Initializing the variables\n",
    "    sess.run(tf.global_variables_initializer())\n",
    "    \n",
    "    # Training cycle\n",
    "    for epoch in range(epochs):\n",
    "        # Loop over all batches\n",
    "        n_batches = 5\n",
    "        for batch_i in range(1, n_batches + 1):\n",
    "            for batch_features, batch_labels in helper.load_preprocess_training_batch(batch_i, batch_size):\n",
    "                train_neural_network(sess, optimizer, keep_probability, batch_features, batch_labels)\n",
    "            print('Epoch {:>2}, CIFAR-10 Batch {}:  '.format(epoch + 1, batch_i), end='')\n",
    "            print_stats(sess, batch_features, batch_labels, cost, accuracy)\n",
    "            \n",
    "    # Save Model\n",
    "    saver = tf.train.Saver()\n",
    "    save_path = saver.save(sess, save_model_path)"
   ]
  },
  {
   "cell_type": "markdown",
   "metadata": {
    "deletable": true,
    "editable": true
   },
   "source": [
    "# Checkpoint\n",
    "The model has been saved to disk.\n",
    "## Test Model\n",
    "Test your model against the test dataset.  This will be your final accuracy. You should have an accuracy greater than 50%. If you don't, keep tweaking the model architecture and parameters."
   ]
  },
  {
   "cell_type": "code",
   "execution_count": 82,
   "metadata": {
    "collapsed": false,
    "deletable": true,
    "editable": true
   },
   "outputs": [
    {
     "name": "stdout",
     "output_type": "stream",
     "text": [
      "Testing Accuracy: 0.6550557324840764\n",
      "\n"
     ]
    },
    {
     "data": {
      "image/png": "[encoded data removed]",
      "text/plain": [
       "<matplotlib.figure.Figure at 0x7f89b13f17f0>"
      ]
     },
     "metadata": {
      "image/png": {
       "height": 319,
       "width": 355
      }
     },
     "output_type": "display_data"
    }
   ],
   "source": [
    "\"\"\"\n",
    "DON'T MODIFY ANYTHING IN THIS CELL\n",
    "\"\"\"\n",
    "%matplotlib inline\n",
    "%config InlineBackend.figure_format = 'retina'\n",
    "\n",
    "import tensorflow as tf\n",
    "import pickle\n",
    "import helper\n",
    "import random\n",
    "\n",
    "# Set batch size if not already set\n",
    "try:\n",
    "    if batch_size:\n",
    "        pass\n",
    "except NameError:\n",
    "    batch_size = 64\n",
    "\n",
    "save_model_path = './image_classification'\n",
    "n_samples = 4\n",
    "top_n_predictions = 3\n",
    "\n",
    "def test_model():\n",
    "    \"\"\"\n",
    "    Test the saved model against the test dataset\n",
    "    \"\"\"\n",
    "\n",
    "    test_features, test_labels = pickle.load(open('preprocess_training.p', mode='rb'))\n",
    "    loaded_graph = tf.Graph()\n",
    "\n",
    "    with tf.Session(graph=loaded_graph) as sess:\n",
    "        # Load model\n",
    "        loader = tf.train.import_meta_graph(save_model_path + '.meta')\n",
    "        loader.restore(sess, save_model_path)\n",
    "\n",
    "        # Get Tensors from loaded model\n",
    "        loaded_x = loaded_graph.get_tensor_by_name('x:0')\n",
    "        loaded_y = loaded_graph.get_tensor_by_name('y:0')\n",
    "        loaded_keep_prob = loaded_graph.get_tensor_by_name('keep_prob:0')\n",
    "        loaded_logits = loaded_graph.get_tensor_by_name('logits:0')\n",
    "        loaded_acc = loaded_graph.get_tensor_by_name('accuracy:0')\n",
    "        \n",
    "        # Get accuracy in batches for memory limitations\n",
    "        test_batch_acc_total = 0\n",
    "        test_batch_count = 0\n",
    "        \n",
    "        for train_feature_batch, train_label_batch in helper.batch_features_labels(test_features, test_labels, batch_size):\n",
    "            test_batch_acc_total += sess.run(\n",
    "                loaded_acc,\n",
    "                feed_dict={loaded_x: train_feature_batch, loaded_y: train_label_batch, loaded_keep_prob: 1.0})\n",
    "            test_batch_count += 1\n",
    "\n",
    "        print('Testing Accuracy: {}\\n'.format(test_batch_acc_total/test_batch_count))\n",
    "\n",
    "        # Print Random Samples\n",
    "        random_test_features, random_test_labels = tuple(zip(*random.sample(list(zip(test_features, test_labels)), n_samples)))\n",
    "        random_test_predictions = sess.run(\n",
    "            tf.nn.top_k(tf.nn.softmax(loaded_logits), top_n_predictions),\n",
    "            feed_dict={loaded_x: random_test_features, loaded_y: random_test_labels, loaded_keep_prob: 1.0})\n",
    "        helper.display_image_predictions(random_test_features, random_test_labels, random_test_predictions)\n",
    "\n",
    "\n",
    "test_model()"
   ]
  },
  {
   "cell_type": "markdown",
   "metadata": {
    "deletable": true,
    "editable": true
   },
   "source": [
    "## Why 50-70% Accuracy?\n",
    "You might be wondering why you can't get an accuracy any higher. First things first, 50% isn't bad for a simple CNN.  Pure guessing would get you 10% accuracy. However, you might notice people are getting scores [well above 70%](http://rodrigob.github.io/are_we_there_yet/build/classification_datasets_results.html#43494641522d3130).  That's because we haven't taught you all there is to know about neural networks. We still need to cover a few more techniques.\n",
    "## Submitting This Project\n",
    "When submitting this project, make sure to run all the cells before saving the notebook.  Save the notebook file as \"dlnd_image_classification.ipynb\" and save it as a HTML file under \"File\" -> \"Download as\".  Include the \"helper.py\" and \"problem_unittests.py\" files in your submission."
   ]
  }
 ],
 "metadata": {
  "kernelspec": {
   "display_name": "Python 3",
   "language": "python",
   "name": "python3"
  },
  "language_info": {
   "codemirror_mode": {
    "name": "ipython",
    "version": 3
   },
   "file_extension": ".py",
   "mimetype": "text/x-python",
   "name": "python",
   "nbconvert_exporter": "python",
   "pygments_lexer": "ipython3",
   "version": "3.5.2"
  },
  "widgets": {
   "state": {},
   "version": "1.1.2"
  }
 },
 "nbformat": 4,
 "nbformat_minor": 0
}
