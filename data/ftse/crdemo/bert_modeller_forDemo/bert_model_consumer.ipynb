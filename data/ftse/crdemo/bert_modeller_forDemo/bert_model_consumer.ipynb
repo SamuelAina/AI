{
 "cells": [
  {
   "cell_type": "code",
   "execution_count": 1,
   "metadata": {},
   "outputs": [],
   "source": [
    "#%pip install simpletransformers\n",
    "\n",
    "model_files_output_folder=\"D:\\\\Sola\\\\DEV\\\\SC\\\\NewsCrawler\\\\bert_modeller\\\\models\"\n"
   ]
  },
  {
   "cell_type": "code",
   "execution_count": null,
   "metadata": {},
   "outputs": [],
   "source": [
    "from simpletransformers.classification import ClassificationModel, ClassificationArgs\n",
    "\n",
    "#read model from file and then use to predict:\n",
    "model2 = ClassificationModel(\"roberta\", model_files_output_folder,use_cuda=False)"
   ]
  },
  {
   "cell_type": "code",
   "execution_count": 3,
   "metadata": {},
   "outputs": [
    {
     "name": "stderr",
     "output_type": "stream",
     "text": [
      " 33%|███▎      | 1/3 [00:13<00:27, 13.74s/it]\n",
      "100%|██████████| 1/1 [00:02<00:00,  2.84s/it]\n"
     ]
    },
    {
     "data": {
      "text/plain": [
       "([1, 1, 0],\n",
       " array([[-1.9349997 ,  1.64936399],\n",
       "        [-0.8302986 ,  0.65670067],\n",
       "        [ 0.36469498, -0.31574795]]))"
      ]
     },
     "execution_count": 3,
     "metadata": {},
     "output_type": "execute_result"
    }
   ],
   "source": [
    "\n",
    "model2.predict(['new Blockchain plafrm is fraudilent','the economy has collapsed','the economy is in good shape'])"
   ]
  }
 ],
 "metadata": {
  "kernelspec": {
   "display_name": "Python 3",
   "language": "python",
   "name": "python3"
  },
  "language_info": {
   "codemirror_mode": {
    "name": "ipython",
    "version": 3
   },
   "file_extension": ".py",
   "mimetype": "text/x-python",
   "name": "python",
   "nbconvert_exporter": "python",
   "pygments_lexer": "ipython3",
   "version": "3.11.5"
  }
 },
 "nbformat": 4,
 "nbformat_minor": 2
}
